{
 "cells": [
  {
   "cell_type": "markdown",
   "metadata": {},
   "source": [
    "### A/B Testing Project\n",
    "I shall formulate the hypothesis at the beginning of the project \n",
    "\n",
    "Since I do not know whether the new design of the website will perform better or worse, I will go with a two-tailed test\n",
    "Ho: p=Po\n",
    "Ha: p!=Po\n",
    "\n",
    "P =conversion rate of the new design \n",
    "Po= coversion rate of the old design \n",
    "\n",
    "I have set a confidence level of 95%\n",
    "\n",
    "\n",
    "\n"
   ]
  },
  {
   "cell_type": "code",
   "execution_count": 1,
   "metadata": {},
   "outputs": [],
   "source": [
    "# Let's import libraries \n",
    "import numpy as np\n",
    "import pandas as pd\n",
    "import scipy.stats as stats\n",
    "import statsmodels.stats.api as sms\n",
    "import matplotlib as mpl\n",
    "import matplotlib.pyplot as plt\n",
    "import seaborn as sns \n",
    "from math import ceil \n",
    "%matplotlib inline "
   ]
  },
  {
   "cell_type": "code",
   "execution_count": 2,
   "metadata": {},
   "outputs": [
    {
     "name": "stdout",
     "output_type": "stream",
     "text": [
      "4720\n"
     ]
    }
   ],
   "source": [
    "# Let's calculate the sample size needed to conduct the experiment \n",
    "# calculating the effect size based on our expected rates \n",
    "effect_size=sms.proportion_effectsize(0.13,0.15)\n",
    "required_n=sms.NormalIndPower().solve_power(\n",
    "    effect_size,\n",
    "    power=0.8,\n",
    "    alpha=0.05,\n",
    "    ratio=1\n",
    "    )\n",
    "required_n=ceil(required_n)\n",
    "print(required_n)"
   ]
  },
  {
   "cell_type": "code",
   "execution_count": 3,
   "metadata": {},
   "outputs": [],
   "source": [
    "# We therefore need atleast 4720 observations for each experiment and control group"
   ]
  },
  {
   "cell_type": "code",
   "execution_count": 5,
   "metadata": {},
   "outputs": [
    {
     "data": {
      "text/html": [
       "<div>\n",
       "<style scoped>\n",
       "    .dataframe tbody tr th:only-of-type {\n",
       "        vertical-align: middle;\n",
       "    }\n",
       "\n",
       "    .dataframe tbody tr th {\n",
       "        vertical-align: top;\n",
       "    }\n",
       "\n",
       "    .dataframe thead th {\n",
       "        text-align: right;\n",
       "    }\n",
       "</style>\n",
       "<table border=\"1\" class=\"dataframe\">\n",
       "  <thead>\n",
       "    <tr style=\"text-align: right;\">\n",
       "      <th></th>\n",
       "      <th>user_id</th>\n",
       "      <th>timestamp</th>\n",
       "      <th>group</th>\n",
       "      <th>landing_page</th>\n",
       "      <th>converted</th>\n",
       "    </tr>\n",
       "  </thead>\n",
       "  <tbody>\n",
       "    <tr>\n",
       "      <td>0</td>\n",
       "      <td>851104</td>\n",
       "      <td>11:48.6</td>\n",
       "      <td>control</td>\n",
       "      <td>old_page</td>\n",
       "      <td>0</td>\n",
       "    </tr>\n",
       "    <tr>\n",
       "      <td>1</td>\n",
       "      <td>804228</td>\n",
       "      <td>01:45.2</td>\n",
       "      <td>control</td>\n",
       "      <td>old_page</td>\n",
       "      <td>0</td>\n",
       "    </tr>\n",
       "    <tr>\n",
       "      <td>2</td>\n",
       "      <td>661590</td>\n",
       "      <td>55:06.2</td>\n",
       "      <td>treatment</td>\n",
       "      <td>new_page</td>\n",
       "      <td>0</td>\n",
       "    </tr>\n",
       "    <tr>\n",
       "      <td>3</td>\n",
       "      <td>853541</td>\n",
       "      <td>28:03.1</td>\n",
       "      <td>treatment</td>\n",
       "      <td>new_page</td>\n",
       "      <td>0</td>\n",
       "    </tr>\n",
       "    <tr>\n",
       "      <td>4</td>\n",
       "      <td>864975</td>\n",
       "      <td>52:26.2</td>\n",
       "      <td>control</td>\n",
       "      <td>old_page</td>\n",
       "      <td>1</td>\n",
       "    </tr>\n",
       "  </tbody>\n",
       "</table>\n",
       "</div>"
      ],
      "text/plain": [
       "   user_id timestamp      group landing_page  converted\n",
       "0   851104   11:48.6    control     old_page          0\n",
       "1   804228   01:45.2    control     old_page          0\n",
       "2   661590   55:06.2  treatment     new_page          0\n",
       "3   853541   28:03.1  treatment     new_page          0\n",
       "4   864975   52:26.2    control     old_page          1"
      ]
     },
     "execution_count": 5,
     "metadata": {},
     "output_type": "execute_result"
    }
   ],
   "source": [
    "# Let's load the dataset into a pandas dataframe \n",
    "df=pd.read_csv(\"ab_data.csv\")\n",
    "df.head()"
   ]
  },
  {
   "cell_type": "code",
   "execution_count": 6,
   "metadata": {},
   "outputs": [
    {
     "name": "stdout",
     "output_type": "stream",
     "text": [
      "<class 'pandas.core.frame.DataFrame'>\n",
      "RangeIndex: 294478 entries, 0 to 294477\n",
      "Data columns (total 5 columns):\n",
      "user_id         294478 non-null int64\n",
      "timestamp       294478 non-null object\n",
      "group           294478 non-null object\n",
      "landing_page    294478 non-null object\n",
      "converted       294478 non-null int64\n",
      "dtypes: int64(2), object(3)\n",
      "memory usage: 11.2+ MB\n"
     ]
    }
   ],
   "source": [
    "# Let's explore the dataset further \n",
    "df.info()"
   ]
  },
  {
   "cell_type": "code",
   "execution_count": 8,
   "metadata": {},
   "outputs": [
    {
     "name": "stdout",
     "output_type": "stream",
     "text": [
      "there are 3894 number of users that appear multiple times in the dataset\n"
     ]
    }
   ],
   "source": [
    "# Before going ahead with the test, let's make sure that there are no users that have been sampled multiple times\n",
    "\n",
    "session_counts=df['user_id'].value_counts(ascending=False)\n",
    "multi_users=session_counts[session_counts>1].count()\n",
    "\n",
    "print(f'there are {multi_users} number of users that appear multiple times in the dataset')"
   ]
  },
  {
   "cell_type": "code",
   "execution_count": 10,
   "metadata": {},
   "outputs": [
    {
     "name": "stdout",
     "output_type": "stream",
     "text": [
      "the updated dataset has 286690 number of entries\n"
     ]
    }
   ],
   "source": [
    "# Since the number of multiple users is quite low, let's drop them\n",
    "drop_users=session_counts[session_counts>1].index\n",
    "df=df[~df['user_id'].isin(drop_users)]\n",
    "print(f'the updated dataset has {df.shape[0]} number of entries')"
   ]
  },
  {
   "cell_type": "markdown",
   "metadata": {},
   "source": [
    "### Sampling "
   ]
  },
  {
   "cell_type": "code",
   "execution_count": 11,
   "metadata": {},
   "outputs": [],
   "source": [
    "# let's create a sample using pandas library \n",
    "\n",
    "control_sample= df[df['group']=='control'].sample(n=required_n,random_state=22)\n",
    "treatment_sample=df[df['group']=='treatment'].sample(n=required_n,random_state=22)\n",
    "\n"
   ]
  },
  {
   "cell_type": "code",
   "execution_count": 12,
   "metadata": {},
   "outputs": [],
   "source": [
    "ab_test=pd.concat([control_sample,treatment_sample],axis=0)\n",
    "ab_test.reset_index(drop=True,inplace=True)\n"
   ]
  },
  {
   "cell_type": "code",
   "execution_count": 13,
   "metadata": {},
   "outputs": [
    {
     "data": {
      "text/html": [
       "<div>\n",
       "<style scoped>\n",
       "    .dataframe tbody tr th:only-of-type {\n",
       "        vertical-align: middle;\n",
       "    }\n",
       "\n",
       "    .dataframe tbody tr th {\n",
       "        vertical-align: top;\n",
       "    }\n",
       "\n",
       "    .dataframe thead th {\n",
       "        text-align: right;\n",
       "    }\n",
       "</style>\n",
       "<table border=\"1\" class=\"dataframe\">\n",
       "  <thead>\n",
       "    <tr style=\"text-align: right;\">\n",
       "      <th></th>\n",
       "      <th>user_id</th>\n",
       "      <th>timestamp</th>\n",
       "      <th>group</th>\n",
       "      <th>landing_page</th>\n",
       "      <th>converted</th>\n",
       "    </tr>\n",
       "  </thead>\n",
       "  <tbody>\n",
       "    <tr>\n",
       "      <td>0</td>\n",
       "      <td>763854</td>\n",
       "      <td>43:17.2</td>\n",
       "      <td>control</td>\n",
       "      <td>old_page</td>\n",
       "      <td>0</td>\n",
       "    </tr>\n",
       "    <tr>\n",
       "      <td>1</td>\n",
       "      <td>690555</td>\n",
       "      <td>38:13.1</td>\n",
       "      <td>control</td>\n",
       "      <td>old_page</td>\n",
       "      <td>0</td>\n",
       "    </tr>\n",
       "    <tr>\n",
       "      <td>2</td>\n",
       "      <td>861520</td>\n",
       "      <td>13:40.0</td>\n",
       "      <td>control</td>\n",
       "      <td>old_page</td>\n",
       "      <td>0</td>\n",
       "    </tr>\n",
       "    <tr>\n",
       "      <td>3</td>\n",
       "      <td>630778</td>\n",
       "      <td>42:37.0</td>\n",
       "      <td>control</td>\n",
       "      <td>old_page</td>\n",
       "      <td>0</td>\n",
       "    </tr>\n",
       "    <tr>\n",
       "      <td>4</td>\n",
       "      <td>656634</td>\n",
       "      <td>31:21.7</td>\n",
       "      <td>control</td>\n",
       "      <td>old_page</td>\n",
       "      <td>0</td>\n",
       "    </tr>\n",
       "    <tr>\n",
       "      <td>...</td>\n",
       "      <td>...</td>\n",
       "      <td>...</td>\n",
       "      <td>...</td>\n",
       "      <td>...</td>\n",
       "      <td>...</td>\n",
       "    </tr>\n",
       "    <tr>\n",
       "      <td>9435</td>\n",
       "      <td>908512</td>\n",
       "      <td>02:29.9</td>\n",
       "      <td>treatment</td>\n",
       "      <td>new_page</td>\n",
       "      <td>0</td>\n",
       "    </tr>\n",
       "    <tr>\n",
       "      <td>9436</td>\n",
       "      <td>873211</td>\n",
       "      <td>57:16.2</td>\n",
       "      <td>treatment</td>\n",
       "      <td>new_page</td>\n",
       "      <td>0</td>\n",
       "    </tr>\n",
       "    <tr>\n",
       "      <td>9437</td>\n",
       "      <td>631276</td>\n",
       "      <td>56:58.2</td>\n",
       "      <td>treatment</td>\n",
       "      <td>new_page</td>\n",
       "      <td>0</td>\n",
       "    </tr>\n",
       "    <tr>\n",
       "      <td>9438</td>\n",
       "      <td>662301</td>\n",
       "      <td>10:57.8</td>\n",
       "      <td>treatment</td>\n",
       "      <td>new_page</td>\n",
       "      <td>0</td>\n",
       "    </tr>\n",
       "    <tr>\n",
       "      <td>9439</td>\n",
       "      <td>944623</td>\n",
       "      <td>56:01.6</td>\n",
       "      <td>treatment</td>\n",
       "      <td>new_page</td>\n",
       "      <td>1</td>\n",
       "    </tr>\n",
       "  </tbody>\n",
       "</table>\n",
       "<p>9440 rows × 5 columns</p>\n",
       "</div>"
      ],
      "text/plain": [
       "      user_id timestamp      group landing_page  converted\n",
       "0      763854   43:17.2    control     old_page          0\n",
       "1      690555   38:13.1    control     old_page          0\n",
       "2      861520   13:40.0    control     old_page          0\n",
       "3      630778   42:37.0    control     old_page          0\n",
       "4      656634   31:21.7    control     old_page          0\n",
       "...       ...       ...        ...          ...        ...\n",
       "9435   908512   02:29.9  treatment     new_page          0\n",
       "9436   873211   57:16.2  treatment     new_page          0\n",
       "9437   631276   56:58.2  treatment     new_page          0\n",
       "9438   662301   10:57.8  treatment     new_page          0\n",
       "9439   944623   56:01.6  treatment     new_page          1\n",
       "\n",
       "[9440 rows x 5 columns]"
      ]
     },
     "execution_count": 13,
     "metadata": {},
     "output_type": "execute_result"
    }
   ],
   "source": [
    "ab_test"
   ]
  },
  {
   "cell_type": "code",
   "execution_count": 14,
   "metadata": {},
   "outputs": [
    {
     "name": "stdout",
     "output_type": "stream",
     "text": [
      "<class 'pandas.core.frame.DataFrame'>\n",
      "RangeIndex: 9440 entries, 0 to 9439\n",
      "Data columns (total 5 columns):\n",
      "user_id         9440 non-null int64\n",
      "timestamp       9440 non-null object\n",
      "group           9440 non-null object\n",
      "landing_page    9440 non-null object\n",
      "converted       9440 non-null int64\n",
      "dtypes: int64(2), object(3)\n",
      "memory usage: 368.9+ KB\n"
     ]
    }
   ],
   "source": [
    "ab_test.info()"
   ]
  },
  {
   "cell_type": "code",
   "execution_count": 20,
   "metadata": {},
   "outputs": [
    {
     "data": {
      "text/plain": [
       "control      4720\n",
       "treatment    4720\n",
       "Name: group, dtype: int64"
      ]
     },
     "execution_count": 20,
     "metadata": {},
     "output_type": "execute_result"
    }
   ],
   "source": [
    "ab_test['group'].value_counts()"
   ]
  },
  {
   "cell_type": "code",
   "execution_count": null,
   "metadata": {},
   "outputs": [],
   "source": []
  },
  {
   "cell_type": "code",
   "execution_count": 21,
   "metadata": {},
   "outputs": [
    {
     "data": {
      "text/html": [
       "<style  type=\"text/css\" >\n",
       "</style><table id=\"T_a8926b58_8c5d_11eb_bea7_e8d0fc826eb6\" ><thead>    <tr>        <th class=\"blank level0\" ></th>        <th class=\"col_heading level0 col0\" >conversion_rate</th>        <th class=\"col_heading level0 col1\" >std_deviation</th>        <th class=\"col_heading level0 col2\" >std_error</th>    </tr>    <tr>        <th class=\"index_name level0\" >group</th>        <th class=\"blank\" ></th>        <th class=\"blank\" ></th>        <th class=\"blank\" ></th>    </tr></thead><tbody>\n",
       "                <tr>\n",
       "                        <th id=\"T_a8926b58_8c5d_11eb_bea7_e8d0fc826eb6level0_row0\" class=\"row_heading level0 row0\" >control</th>\n",
       "                        <td id=\"T_a8926b58_8c5d_11eb_bea7_e8d0fc826eb6row0_col0\" class=\"data row0 col0\" >0.123</td>\n",
       "                        <td id=\"T_a8926b58_8c5d_11eb_bea7_e8d0fc826eb6row0_col1\" class=\"data row0 col1\" >0.329</td>\n",
       "                        <td id=\"T_a8926b58_8c5d_11eb_bea7_e8d0fc826eb6row0_col2\" class=\"data row0 col2\" >0.005</td>\n",
       "            </tr>\n",
       "            <tr>\n",
       "                        <th id=\"T_a8926b58_8c5d_11eb_bea7_e8d0fc826eb6level0_row1\" class=\"row_heading level0 row1\" >treatment</th>\n",
       "                        <td id=\"T_a8926b58_8c5d_11eb_bea7_e8d0fc826eb6row1_col0\" class=\"data row1 col0\" >0.126</td>\n",
       "                        <td id=\"T_a8926b58_8c5d_11eb_bea7_e8d0fc826eb6row1_col1\" class=\"data row1 col1\" >0.331</td>\n",
       "                        <td id=\"T_a8926b58_8c5d_11eb_bea7_e8d0fc826eb6row1_col2\" class=\"data row1 col2\" >0.005</td>\n",
       "            </tr>\n",
       "    </tbody></table>"
      ],
      "text/plain": [
       "<pandas.io.formats.style.Styler at 0x237324a3c88>"
      ]
     },
     "execution_count": 21,
     "metadata": {},
     "output_type": "execute_result"
    }
   ],
   "source": [
    "# Let's calculate some statistics \n",
    "conversion_rates=ab_test.groupby('group')['converted']\n",
    "\n",
    "std_p=lambda x: np.std(x,ddof=0)  # Std. Dev of proportion \n",
    "se_p= lambda x: stats.sem(x,ddof=0) # Std. error of proportion \n",
    "\n",
    "conversion_rates=conversion_rates.agg([np.mean,std_p,se_p])\n",
    "conversion_rates.columns=['conversion_rate','std_deviation','std_error']\n",
    "\n",
    "conversion_rates.style.format('{:.3f}')"
   ]
  },
  {
   "cell_type": "code",
   "execution_count": 22,
   "metadata": {},
   "outputs": [
    {
     "data": {
      "image/png": "[encoded data removed]",
      "text/plain": [
       "<Figure size 576x432 with 1 Axes>"
      ]
     },
     "metadata": {
      "needs_background": "light"
     },
     "output_type": "display_data"
    }
   ],
   "source": [
    "# Looking at the stats, there does not seem to be much of a difference in the conversion rates of the two groups \n",
    "# Let's plot to check \n",
    "\n",
    "plt.figure(figsize=(8,6))\n",
    "\n",
    "sns.barplot(x=ab_test['group'],y=ab_test['converted'],ci=False)\n",
    "plt.ylim(0,0.17)\n",
    "plt.title('Coversion rate by group',pad=20)\n",
    "plt.xlabel(\"Group\",labelpad=15)\n",
    "plt.ylabel('Converted (proportion)',labelpad=15);"
   ]
  },
  {
   "cell_type": "code",
   "execution_count": 24,
   "metadata": {},
   "outputs": [],
   "source": [
    "# Now let' test the hypothesis to check of the difference in conversion rates is significantly different \n",
    "\n",
    "from statsmodels.stats.proportion import proportions_ztest,proportion_confint"
   ]
  },
  {
   "cell_type": "code",
   "execution_count": 25,
   "metadata": {},
   "outputs": [],
   "source": [
    "control_results=ab_test[ab_test['group']=='control']['converted']\n",
    "treatment_results=ab_test[ab_test['group']=='treatment']['converted']"
   ]
  },
  {
   "cell_type": "code",
   "execution_count": 28,
   "metadata": {},
   "outputs": [
    {
     "name": "stdout",
     "output_type": "stream",
     "text": [
      "z statistic:-0.34\n",
      "p-value:0.732\n",
      "ci 95% for control group:[0.120,0.127]\n",
      "ci 95% for treatment group:[0.122,0.129]\n"
     ]
    }
   ],
   "source": [
    "n_con=control_results.count()\n",
    "n_treat=treatment_results.count()\n",
    "\n",
    "successes=[control_results.sum(),treatment_results.sum()]\n",
    "nobs=[n_con,n_treat]\n",
    "\n",
    "z_stat,pval=proportions_ztest(successes,nobs=nobs)\n",
    "(lower_con,lower_treat),(upper_con,upper_treat)=proportion_confint(successes,nobs=nobs,alpha=0.5)\n",
    "\n",
    "print(f'z statistic:{z_stat:.2f}')\n",
    "print(f'p-value:{pval:.3f}')\n",
    "print(f'ci 95% for control group:[{lower_con:.3f},{upper_con:.3f}]')\n",
    "print(f'ci 95% for treatment group:[{lower_treat:.3f},{upper_treat:.3f}]')\n",
    "\n"
   ]
  },
  {
   "cell_type": "markdown",
   "metadata": {},
   "source": [
    "### Conclusion "
   ]
  },
  {
   "cell_type": "code",
   "execution_count": null,
   "metadata": {},
   "outputs": [],
   "source": [
    "# Since our p-value is very high (0.73), we cannot reject the null hypothesis \n",
    "# This means that our new design did not perform significantly different than the old design "
   ]
  }
 ],
 "metadata": {
  "kernelspec": {
   "display_name": "Python 3",
   "language": "python",
   "name": "python3"
  },
  "language_info": {
   "codemirror_mode": {
    "name": "ipython",
    "version": 3
   },
   "file_extension": ".py",
   "mimetype": "text/x-python",
   "name": "python",
   "nbconvert_exporter": "python",
   "pygments_lexer": "ipython3",
   "version": "3.7.4"
  }
 },
 "nbformat": 4,
 "nbformat_minor": 2
}
